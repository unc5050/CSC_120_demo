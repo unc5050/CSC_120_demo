{
  "nbformat": 4,
  "nbformat_minor": 0,
  "metadata": {
    "colab": {
      "name": "elkhatib.ipynb",
      "provenance": [],
      "authorship_tag": "ABX9TyPaz130+fXASuY422sIL7Ko",
      "include_colab_link": true
    },
    "kernelspec": {
      "name": "python3",
      "display_name": "Python 3"
    },
    "language_info": {
      "name": "python"
    }
  },
  "cells": [
    {
      "cell_type": "markdown",
      "metadata": {
        "id": "view-in-github",
        "colab_type": "text"
      },
      "source": [
        "<a href=\"https://colab.research.google.com/github/unc5050/CSC_120_demo/blob/main/elkhatib.ipynb\" target=\"_parent\"><img src=\"https://colab.research.google.com/assets/colab-badge.svg\" alt=\"Open In Colab\"/></a>"
      ]
    },
    {
      "cell_type": "markdown",
      "source": [
        "Write a python program that iterates the integers from 1 to 50. \n"
      ],
      "metadata": {
        "id": "pnMD8KMbtXBm"
      }
    },
    {
      "cell_type": "code",
      "source": [
        "for i in range (1,50):\n",
        "  if i%3==0 and i%7==0:\n",
        "    print(\"DataApprenticeship\")\n",
        "  elif i%7==0:\n",
        "    print (\"Apprenticeship\")\n",
        "  elif i%3==0:\n",
        "     print (\"Data\")\n",
        "  else:\n",
        "    print(i)\n"
      ],
      "metadata": {
        "colab": {
          "base_uri": "https://localhost:8080/"
        },
        "id": "7abSvWhCt4wX",
        "outputId": "c5a8d184-9f60-4256-d941-efddc9df8871"
      },
      "execution_count": null,
      "outputs": [
        {
          "output_type": "stream",
          "name": "stdout",
          "text": [
            "1\n",
            "2\n",
            "Data\n",
            "4\n",
            "5\n",
            "Data\n",
            "Apprenticeship\n",
            "8\n",
            "Data\n",
            "10\n",
            "11\n",
            "Data\n",
            "13\n",
            "Apprenticeship\n",
            "Data\n",
            "16\n",
            "17\n",
            "Data\n",
            "19\n",
            "20\n",
            "DataApprenticeship\n",
            "22\n",
            "23\n",
            "Data\n",
            "25\n",
            "26\n",
            "Data\n",
            "Apprenticeship\n",
            "29\n",
            "Data\n",
            "31\n",
            "32\n",
            "Data\n",
            "34\n",
            "Apprenticeship\n",
            "Data\n",
            "37\n",
            "38\n",
            "Data\n",
            "40\n",
            "41\n",
            "DataApprenticeship\n",
            "43\n",
            "44\n",
            "Data\n",
            "46\n",
            "47\n",
            "Data\n",
            "Apprenticeship\n"
          ]
        }
      ]
    },
    {
      "cell_type": "code",
      "source": [
        ""
      ],
      "metadata": {
        "id": "LRULzLgIwuIP"
      },
      "execution_count": null,
      "outputs": []
    }
  ]
}